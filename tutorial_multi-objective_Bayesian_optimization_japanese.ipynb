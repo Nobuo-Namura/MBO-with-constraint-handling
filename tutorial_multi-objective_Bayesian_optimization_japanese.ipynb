{
 "cells": [
  {
   "cell_type": "markdown",
   "id": "30bd9368-3946-4ed8-a112-7bcfb65aefb6",
   "metadata": {},
   "source": [
    "## 多目的ベイズ最適化の対話型実行・チュートリアル"
   ]
  },
  {
   "cell_type": "markdown",
   "id": "3178272f-3aa1-4465-acf6-7891960e8cd3",
   "metadata": {},
   "source": [
    "目的関数や制約関数を自動的に評価できない場合に、対話型（手作業）で多目的ベイズ最適化を実行するためのnotebookです。下記のような用途を想定しています。  \n",
    "* 関数評価に数値流体力学(CFD)や有限要素解析(FEA)などを使用しており、形状変更や計算格子の生成を手動で行う必要がある場合\n",
    "* 数値シミュレーションが利用できず、関数評価に実験室などでの計測が必要である場合\n",
    "* プログラミングをせずにベイズ最適化を試してみたい場合"
   ]
  },
  {
   "cell_type": "markdown",
   "id": "84696445-774e-4cdc-abf8-c0b3ae45748b",
   "metadata": {},
   "source": [
    "Copyright (c) 2022 Nobuo Namura  \n",
    "This code is released under the MIT License, see LICENSE.txt.  \n",
    "\n",
    "多目的ベイズ最適化では、下記の論文の手法を用いています。このコードを用いた結果を論文等で公開する場合は、これらを引用ください。\n",
    "\n",
    "* [N. Namura, \"Surrogate-Assisted Reference Vector Adaptation to Various Pareto Front Shapes for Many-Objective Bayesian Optimization,\" IEEE Congress on Evolutionary Computation, Krakow, Poland, pp.901-908, 2021.](https://doi.org/10.1109/CEC45853.2021.9504917)\n",
    "* [N. Namura, K. Shimoyama, and S. Obayashi, \"Expected Improvement of Penalty-based Boundary Intersection for Expensive Multiobjective Optimization,\" IEEE Transactions on Evolutionary Computation, vol. 21, no. 6, pp. 898-913, 2017.](https://doi.org/10.1109/TEVC.2017.2693320)"
   ]
  },
  {
   "cell_type": "markdown",
   "id": "1f8f849c-1517-4163-b745-3c47cb8c9a54",
   "metadata": {},
   "source": [
    "### 0. Import\n",
    "requirement.txt に記載のライブラリ群をインストール（\"pip install -r requirements.txt\"）してから、下記のセルを実行（Shift + Enter）してください。"
   ]
  },
  {
   "cell_type": "code",
   "execution_count": 1,
   "id": "9e710624-38e7-44b7-a099-3990a72f5066",
   "metadata": {},
   "outputs": [],
   "source": [
    "import numpy as np\n",
    "import pandas as pd\n",
    "import warnings\n",
    "import matplotlib.pyplot as plt\n",
    "import os\n",
    "import shutil\n",
    "from bo import BayesianOptimization\n",
    "import test_problem"
   ]
  },
  {
   "cell_type": "markdown",
   "id": "b4db1367-bf5a-4c26-ad37-e8d79a431544",
   "metadata": {},
   "source": [
    "### 1. 設定"
   ]
  },
  {
   "cell_type": "markdown",
   "id": "1c7742c0-c5e2-4cfd-92f8-e28dc9fbd36e",
   "metadata": {},
   "source": [
    "#### 最適化問題定義  \n",
    "下記をそのまま実行するとチュートリアル用のデータを読み込みます。  \n",
    "ご自身の問題に多目的ベイズ最適化を適用する場合は、以下の2つファイルと同様の形式でcsvファイルを作成し、下記セルのファイル名を作成したファイルに合わせてください。  \n",
    "* design_space_sgm.csv: 設計変数の定義域（最小値、最大値）を指定するファイル。  \n",
    "* sample_sgm.csv: ガウス過程モデルの学習データを記載したファイル。行方向に各学習データ、列方向に設計変数（$x1, x2, ...$）、目的関数（$f1, f2, ...$）、制約関数（$g1, g2, ...$）を入力。制約条件がない場合、制約関数は省略可能  \n",
    "\n",
    "制約関数は、$g(x) <= 0$ の形に式変形した値を入力してください。  \n",
    "例：ある場所の応力 $\\sigma(x)$ が、ある値 $c$ 以下に制約したい場合、$\\sigma(x) \\leqq c$ を変形して、$\\sigma(x) - c \\leqq 0$ とし、$g(x) = \\sigma(x) - c$ の数値をファイルに入力してください。"
   ]
  },
  {
   "cell_type": "code",
   "execution_count": 2,
   "id": "3c9e1971-711c-4774-b1e3-854c872865cc",
   "metadata": {},
   "outputs": [],
   "source": [
    "# ここを編集 -----------------------------------------------------------------\n",
    "f_design_space = 'design_space_sgm.csv'        # 設計変数の定義域を指定するファイルの名前\n",
    "f_sample = 'sample_sgm.csv'                    # 学習データを記載したファイルの名前\n",
    "n_add = 5                                      # ベイズ最適化で生成する解候補の数\n",
    "# ----------------------------------------------------------------------------\n",
    "\n",
    "# ファイル読み込み\n",
    "df_design_space = pd.read_csv(f_design_space)\n",
    "df_sample = pd.read_csv(f_sample)\n",
    "nf = df_sample.columns.str.contains('f').sum() # 目的関数の数を読み込み\n",
    "ng = df_sample.columns.str.contains('g').sum() # 制約関数の数を読み込み\n",
    "\n",
    "# 最大化すべき目的関数がある場合や、関数にノイズが含まれる場合は以下を修正 ---\n",
    "MIN = np.full(nf, True)                        # 各目的関数に対して、「True=最小化, False=最大化」を配列で指定\n",
    "NOISE = np.full(nf+ng, False)                  # 各目的関数、制約関数に対して、「True=ノイズあり, False=ノイズなし」を配列で指定\n",
    "# ----------------------------------------------------------------------------"
   ]
  },
  {
   "cell_type": "markdown",
   "id": "ec52c5e7-3a1c-4db7-84cb-41fbbaba66e1",
   "metadata": {},
   "source": [
    "#### パラメータ設定  \n",
    "下記のパラメータを調整することで、より高度な最適化が可能です。進化計算や多目的最適化について詳しくない場合、下記の推奨値をそのまま利用ください。"
   ]
  },
  {
   "cell_type": "code",
   "execution_count": 3,
   "id": "b6e1032b-0752-4c34-82cf-7c5fcee69fc7",
   "metadata": {},
   "outputs": [],
   "source": [
    "division = pd.read_csv('reference_vector_division.csv', index_col=0)\n",
    "CRITERIA = 'EPBII'                             # 多目的ベイズ最適化の獲得関数を選択：EPBII or EIPBII\n",
    "SRVA = True                                    # 上記の獲得関数で用いる参照ベクトルの生成方法：True=surrogate-assisted reference vector adaptation, False=two-layered simplex latice-design\n",
    "OPTIMIZER = 'NSGA3'                            # ガウス過程モデル上での多目的最適化に用いるアルゴリズム：NSGA3 or NSGA2\n",
    "# 獲得関数で用いる参照ベクトルの数\n",
    "n_randvec = division.loc[nf, 'npop']           # SRVA=Trueの場合は適応型ベクトルの数、SRVA=Falseの場合はランダムベクトルの数 (>=0)\n",
    "nh = 0 #division.loc[nf, 'nh']                 # SRVA=Falseの場合、Two-layered simplex latice-design で用いる外側層の分割数 (>=0)\n",
    "nhin = 0 #division.loc[nf, 'nhin']             # SRVA=Falseの場合、Two-layered simplex latice-design で用いる内側層の分割数 (>=0)\n",
    "# 多目的最適化に用いるアルゴリズムのパラメータ\n",
    "ngen_ea = 200                                  # 世代数\n",
    "npop_ea = division.loc[nf, 'npop_ea']          # OPTIMIZER='NSGA2'の場合の個体数\n",
    "nh_ea = division.loc[nf, 'nh_ea']              # OPTIMIZER='NSGA3'の場合、NSGA3で用いるTwo-layered simplex latice-design で用いる外側層の分割数 (>=0)\n",
    "nhin_ea = division.loc[nf, 'nhin_ea']          # OPTIMIZER='NSGA3'の場合、NSGA3で用いるTwo-layered simplex latice-design で用いる内側層の分割数 (>=0)"
   ]
  },
  {
   "cell_type": "markdown",
   "id": "b1ec37af-d8ac-4c13-a98e-907a1f1ee82e",
   "metadata": {},
   "source": [
    "### 2. 初期化"
   ]
  },
  {
   "cell_type": "code",
   "execution_count": 4,
   "id": "ae83e8f4-7a6a-4ab5-bf5e-7f0d41ebc28f",
   "metadata": {},
   "outputs": [],
   "source": [
    "gp = BayesianOptimization(df_sample, df_design_space, MIN)"
   ]
  },
  {
   "cell_type": "markdown",
   "id": "a81f74f8-b88f-483d-afb0-1916b76aae1f",
   "metadata": {},
   "source": [
    "### 3. ガウス過程モデルの学習  \n",
    "遺伝的アルゴリズム(GA)を用いて、尤度が最大となるようにハイパーパラメータを決定します。\n",
    "* theta0: ハイパーパラメータの上限値、$10^{theta0}$ が上限値になります\n",
    "* npop: GAの個体数\n",
    "* ngen: GAの最大世代数\n",
    "* mingen: GAの最小世代数\n",
    "* STOP: Trueの場合、mingen以上の世代数で収束判定を行い、収束した場合にはngenに至る前に最適化を打ち切ります\n",
    "* PRINT: Trueの場合、GAでの最適化履歴を出力します\n",
    "* theta: 最適化によって得られたハイパーパラメータ (出力)"
   ]
  },
  {
   "cell_type": "code",
   "execution_count": 5,
   "id": "3839b5d8-c8cd-4858-8e81-5b38d986a46c",
   "metadata": {},
   "outputs": [
    {
     "name": "stdout",
     "output_type": "stream",
     "text": [
      "--- 1-th function estimation -------------------\n",
      "--- 2-th function estimation -------------------\n",
      "--- 3-th function estimation -------------------\n"
     ]
    }
   ],
   "source": [
    "warnings.simplefilter('ignore')\n",
    "theta = gp.training(theta0 = 3.0, npop = 100, ngen = 100, mingen=0, STOP=True, NOISE=NOISE, PRINT=False)\n",
    "gp.construction(theta)"
   ]
  },
  {
   "cell_type": "markdown",
   "id": "5d03ef34-1bb3-4acf-99c0-e0f947e2d6c1",
   "metadata": {},
   "source": [
    "### 4. 解候補の生成  \n",
    "MOEA/Dという進化計算アルゴリズムを用いて獲得関数を最大化し、次に目的関数、制約関数を評価すべき解候補を生成します。  \n",
    "※下記に出力される目的関数（$f1, f2, ...$）と制約関数（$g1, g2, ...$）の値は、ガウス過程モデルによる予測値です。"
   ]
  },
  {
   "cell_type": "code",
   "execution_count": 6,
   "id": "e30c9054-0fba-4bc1-a0d4-4f3b71940125",
   "metadata": {},
   "outputs": [
    {
     "name": "stdout",
     "output_type": "stream",
     "text": [
      "Multi-objective optimization on the Kriging models\n",
      "Single objective optimization for the 1-th objective function\n",
      "Single objective optimization for the 2-th objective function\n",
      "EPBII maximization with MOEA/D\n"
     ]
    },
    {
     "data": {
      "text/html": [
       "<div>\n",
       "<style scoped>\n",
       "    .dataframe tbody tr th:only-of-type {\n",
       "        vertical-align: middle;\n",
       "    }\n",
       "\n",
       "    .dataframe tbody tr th {\n",
       "        vertical-align: top;\n",
       "    }\n",
       "\n",
       "    .dataframe thead th {\n",
       "        text-align: right;\n",
       "    }\n",
       "</style>\n",
       "<table border=\"1\" class=\"dataframe\">\n",
       "  <thead>\n",
       "    <tr style=\"text-align: right;\">\n",
       "      <th></th>\n",
       "      <th>x1</th>\n",
       "      <th>x2</th>\n",
       "      <th>f1</th>\n",
       "      <th>f2</th>\n",
       "      <th>g1</th>\n",
       "    </tr>\n",
       "  </thead>\n",
       "  <tbody>\n",
       "    <tr>\n",
       "      <th>0</th>\n",
       "      <td>0.410530</td>\n",
       "      <td>0.172712</td>\n",
       "      <td>0.083770</td>\n",
       "      <td>-0.393835</td>\n",
       "      <td>-0.172713</td>\n",
       "    </tr>\n",
       "    <tr>\n",
       "      <th>1</th>\n",
       "      <td>0.535260</td>\n",
       "      <td>0.219598</td>\n",
       "      <td>-0.060621</td>\n",
       "      <td>-0.263926</td>\n",
       "      <td>-0.101280</td>\n",
       "    </tr>\n",
       "    <tr>\n",
       "      <th>2</th>\n",
       "      <td>0.883222</td>\n",
       "      <td>0.842823</td>\n",
       "      <td>0.137250</td>\n",
       "      <td>-0.559106</td>\n",
       "      <td>-0.032673</td>\n",
       "    </tr>\n",
       "    <tr>\n",
       "      <th>3</th>\n",
       "      <td>0.497058</td>\n",
       "      <td>0.206659</td>\n",
       "      <td>-0.011007</td>\n",
       "      <td>-0.319812</td>\n",
       "      <td>-0.122532</td>\n",
       "    </tr>\n",
       "    <tr>\n",
       "      <th>4</th>\n",
       "      <td>0.623360</td>\n",
       "      <td>0.255978</td>\n",
       "      <td>-0.143277</td>\n",
       "      <td>-0.124122</td>\n",
       "      <td>-0.063443</td>\n",
       "    </tr>\n",
       "  </tbody>\n",
       "</table>\n",
       "</div>"
      ],
      "text/plain": [
       "         x1        x2        f1        f2        g1\n",
       "0  0.410530  0.172712  0.083770 -0.393835 -0.172713\n",
       "1  0.535260  0.219598 -0.060621 -0.263926 -0.101280\n",
       "2  0.883222  0.842823  0.137250 -0.559106 -0.032673\n",
       "3  0.497058  0.206659 -0.011007 -0.319812 -0.122532\n",
       "4  0.623360  0.255978 -0.143277 -0.124122 -0.063443"
      ]
     },
     "execution_count": 6,
     "metadata": {},
     "output_type": "execute_result"
    }
   ],
   "source": [
    "x_add, f_add_est, g_add_est = gp.optimize_multiobjective_problem(CRITERIA=CRITERIA, OPTIMIZER=OPTIMIZER, SRVA=SRVA, n_add=n_add, n_randvec=n_randvec, nh_ea=nh_ea, nhin_ea=nhin_ea, npop_ea=npop_ea, ngen_ea=ngen_ea, PLOT=False, PRINT=False)\n",
    "add_sample = pd.DataFrame(np.hstack([x_add, f_add_est, g_add_est]), columns=np.hstack(['x'+np.arange(1,1+gp.nx).astype(str).astype(object), 'f'+np.arange(1,1+gp.nf).astype(str).astype(object), 'g'+np.arange(1,1+gp.ng).astype(str).astype(object)]))\n",
    "add_sample"
   ]
  },
  {
   "cell_type": "markdown",
   "id": "d72d39ab-5367-4102-9f25-38598718cb41",
   "metadata": {},
   "source": [
    "### 5. 可視化 (目的関数が2または3個の場合のみ)"
   ]
  },
  {
   "cell_type": "code",
   "execution_count": 7,
   "id": "de939b26-5e33-437b-849b-eeece5ee5ddd",
   "metadata": {},
   "outputs": [
    {
     "data": {
      "image/png": "[encoded data removed]",
      "text/plain": [
       "<Figure size 432x288 with 1 Axes>"
      ]
     },
     "metadata": {
      "needs_background": "light"
     },
     "output_type": "display_data"
    }
   ],
   "source": [
    "#%matplotlib notebook\n",
    "rank = gp.pareto_ranking(gp.f, gp.g)\n",
    "feasible = ~np.any(gp.g>0, axis=1)\n",
    "if gp.nf == 2:\n",
    "    plt.figure('2D Objective-space with '+str(gp.ns)+'-samples')\n",
    "    plt.scatter(gp.f[feasible,0], gp.f[feasible,1], marker='o', c='black', s=10, label='feasible sample points')\n",
    "    plt.scatter(gp.f[~feasible,0], gp.f[~feasible,1], marker='x', c='black', s=10, label='infeasible sample points')\n",
    "    plt.scatter(gp.f_opt[:,0], gp.f_opt[:,1], marker='o', c='grey', s=10, label='estimated PF')\n",
    "    plt.plot(gp.utopia[0], gp.utopia[1], '+', c='black', label='utopia point')\n",
    "    plt.plot(gp.nadir[0], gp.nadir[1], '+', c='black', label='nadir point')\n",
    "    plt.scatter(gp.f_candidate[:,0], gp.f_candidate[:,1], c=gp.fitness_org, cmap='jet', marker='o', s=40, label='candidate points')\n",
    "    plt.scatter(f_add_est[:,0],f_add_est[:,1], facecolors='none', edgecolors='magenta', marker='o', s=60, linewidth=2, label='selected candidate points')\n",
    "    plt.legend(bbox_to_anchor=(1.01, 1.0), loc='upper left')\n",
    "elif gp.nf == 3:\n",
    "    fig = plt.figure('3D Objective-space with '+str(gp.ns)+'-samples')\n",
    "    ax = fig.add_subplot(projection='3d')\n",
    "    # ax.scatter(gp.f[rank>1,0], gp.f[rank>1,1], gp.f[rank>1,2], marker='o', c='black', s=10, label='sample points')\n",
    "    # ax.scatter(gp.f_opt[:,0], gp.f_opt[:,1], gp.f_opt[:,2], marker='o', c='grey', s=10, alpha=0.5, label='estimated PF')\n",
    "    ax.scatter(gp.f[rank==1,0], gp.f[rank==1,1], gp.f[rank==1,2], marker='o', c='blue', s=20, label='NDSs among sample points')\n",
    "    ax.scatter(gp.f_candidate[:,0], gp.f_candidate[:,1], gp.f_candidate[:,2], c=gp.fitness_org, cmap='jet', marker='*', s=40, label='candidate points')\n",
    "    ax.scatter(f_add_est[:,0], f_add_est[:,1], f_add_est[:,-1], marker='o', c='none', edgecolor='magenta', s=60, linewidth=2, label='selected candidate points')\n",
    "    ax.view_init(elev=30, azim=45)\n",
    "    plt.legend(bbox_to_anchor=(1.01, 1.0), loc='upper left')"
   ]
  },
  {
   "cell_type": "markdown",
   "id": "b029d5bc-ef68-4f22-bb36-49fbc9cd0d76",
   "metadata": {},
   "source": [
    "### 6. ファイル書き出し\n",
    "* 生成されたファイルの設計変数に対する目的関数、制約関数の値を、実際に評価・入力してファイルを上書き保存してください\n",
    "* \"1. 設定\" に戻り、\"f_sample\"のファイル名を上書き保存したファイル名に変更して、これまでの操作を繰り返します（納得できる解が得られたらベイズ最適化を終了します）"
   ]
  },
  {
   "cell_type": "code",
   "execution_count": 8,
   "id": "15b4763e-0ce1-400e-8356-a8de191f64ec",
   "metadata": {},
   "outputs": [],
   "source": [
    "path, extension = os.path.splitext(f_sample)\n",
    "f_sample_out =  path + '_' + str(gp.ns+n_add) + extension\n",
    "shutil.copyfile(f_sample, f_sample_out)\n",
    "with open(f_sample_out, 'a') as file:\n",
    "    np.savetxt(file, x_add, delimiter=',')"
   ]
  },
  {
   "cell_type": "markdown",
   "id": "c4a7418b-9f1f-4069-a011-f995059eb07a",
   "metadata": {},
   "source": [
    "### おまけ: チュートリアル用データ\"sample_sgm.csv\"の目的・制約関数評価\n",
    "* f_sampleにsample_sgm.csvを用いている場合、以下を実行すると解候補の目的関数、制約関数の値を評価し、ファイルに出力します\n",
    "* **main.py**を使うと、この操作を自動的に実行できます。 "
   ]
  },
  {
   "cell_type": "code",
   "execution_count": 9,
   "id": "23e7863b-ae73-4542-aa29-e2fe13d87730",
   "metadata": {},
   "outputs": [],
   "source": [
    "f_add = np.array([test_problem.SGM(x_add[i,:], nf=2, ng=1, seed=3) for i in range(n_add)])\n",
    "path, extension = os.path.splitext(f_sample)\n",
    "f_sample_sgm =  path + '_' + str(gp.ns+n_add) + '_evaluated' + extension\n",
    "shutil.copyfile(f_sample, f_sample_sgm)\n",
    "with open(f_sample_sgm, 'a') as file:\n",
    "    np.savetxt(file, np.hstack([x_add, f_add]), delimiter=',')"
   ]
  },
  {
   "cell_type": "code",
   "execution_count": null,
   "id": "9ab87746-eb50-40f3-b4da-4c6f167fdb60",
   "metadata": {},
   "outputs": [],
   "source": []
  }
 ],
 "metadata": {
  "kernelspec": {
   "display_name": "Python 3",
   "language": "python",
   "name": "python3"
  },
  "language_info": {
   "codemirror_mode": {
    "name": "ipython",
    "version": 3
   },
   "file_extension": ".py",
   "mimetype": "text/x-python",
   "name": "python",
   "nbconvert_exporter": "python",
   "pygments_lexer": "ipython3",
   "version": "3.8.8"
  }
 },
 "nbformat": 4,
 "nbformat_minor": 5
}
